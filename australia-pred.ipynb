{
 "cells": [
  {
   "cell_type": "code",
   "execution_count": 2,
   "id": "e4726690",
   "metadata": {},
   "outputs": [
    {
     "name": "stdout",
     "output_type": "stream",
     "text": [
      "Requirement already satisfied: opendatasets in ./jovian/lib/python3.12/site-packages (0.1.22)\n",
      "Requirement already satisfied: pandas in ./jovian/lib/python3.12/site-packages (2.3.3)\n",
      "Requirement already satisfied: numpy in ./jovian/lib/python3.12/site-packages (2.3.4)\n",
      "Requirement already satisfied: scikit-learn in ./jovian/lib/python3.12/site-packages (1.7.2)\n",
      "Requirement already satisfied: tqdm in ./jovian/lib/python3.12/site-packages (from opendatasets) (4.67.1)\n",
      "Requirement already satisfied: kaggle in ./jovian/lib/python3.12/site-packages (from opendatasets) (1.7.4.5)\n",
      "Requirement already satisfied: click in ./jovian/lib/python3.12/site-packages (from opendatasets) (8.3.0)\n",
      "Requirement already satisfied: python-dateutil>=2.8.2 in ./jovian/lib/python3.12/site-packages (from pandas) (2.9.0.post0)\n",
      "Requirement already satisfied: pytz>=2020.1 in ./jovian/lib/python3.12/site-packages (from pandas) (2025.2)\n",
      "Requirement already satisfied: tzdata>=2022.7 in ./jovian/lib/python3.12/site-packages (from pandas) (2025.2)\n",
      "Requirement already satisfied: scipy>=1.8.0 in ./jovian/lib/python3.12/site-packages (from scikit-learn) (1.16.2)\n",
      "Requirement already satisfied: joblib>=1.2.0 in ./jovian/lib/python3.12/site-packages (from scikit-learn) (1.5.2)\n",
      "Requirement already satisfied: threadpoolctl>=3.1.0 in ./jovian/lib/python3.12/site-packages (from scikit-learn) (3.6.0)\n",
      "Requirement already satisfied: six>=1.5 in ./jovian/lib/python3.12/site-packages (from python-dateutil>=2.8.2->pandas) (1.17.0)\n",
      "Requirement already satisfied: bleach in ./jovian/lib/python3.12/site-packages (from kaggle->opendatasets) (6.2.0)\n",
      "Requirement already satisfied: certifi>=14.05.14 in ./jovian/lib/python3.12/site-packages (from kaggle->opendatasets) (2025.10.5)\n",
      "Requirement already satisfied: charset-normalizer in ./jovian/lib/python3.12/site-packages (from kaggle->opendatasets) (3.4.4)\n",
      "Requirement already satisfied: idna in ./jovian/lib/python3.12/site-packages (from kaggle->opendatasets) (3.11)\n",
      "Requirement already satisfied: protobuf in ./jovian/lib/python3.12/site-packages (from kaggle->opendatasets) (6.33.0)\n",
      "Requirement already satisfied: python-slugify in ./jovian/lib/python3.12/site-packages (from kaggle->opendatasets) (8.0.4)\n",
      "Requirement already satisfied: requests in ./jovian/lib/python3.12/site-packages (from kaggle->opendatasets) (2.32.5)\n",
      "Requirement already satisfied: setuptools>=21.0.0 in ./jovian/lib/python3.12/site-packages (from kaggle->opendatasets) (80.9.0)\n",
      "Requirement already satisfied: text-unidecode in ./jovian/lib/python3.12/site-packages (from kaggle->opendatasets) (1.3)\n",
      "Requirement already satisfied: urllib3>=1.15.1 in ./jovian/lib/python3.12/site-packages (from kaggle->opendatasets) (2.5.0)\n",
      "Requirement already satisfied: webencodings in ./jovian/lib/python3.12/site-packages (from kaggle->opendatasets) (0.5.1)\n",
      "Note: you may need to restart the kernel to use updated packages.\n"
     ]
    }
   ],
   "source": [
    "%pip install opendatasets pandas numpy scikit-learn"
   ]
  }
 ],
 "metadata": {
  "kernelspec": {
   "display_name": "jovian",
   "language": "python",
   "name": "python3"
  },
  "language_info": {
   "codemirror_mode": {
    "name": "ipython",
    "version": 3
   },
   "file_extension": ".py",
   "mimetype": "text/x-python",
   "name": "python",
   "nbconvert_exporter": "python",
   "pygments_lexer": "ipython3",
   "version": "3.12.3"
  }
 },
 "nbformat": 4,
 "nbformat_minor": 5
}
